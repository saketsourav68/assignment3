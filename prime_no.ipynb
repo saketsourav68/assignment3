{
  "nbformat": 4,
  "nbformat_minor": 0,
  "metadata": {
    "colab": {
      "name": "prime_no.ipynb",
      "provenance": []
    },
    "kernelspec": {
      "name": "python3",
      "display_name": "Python 3"
    }
  },
  "cells": [
    {
      "cell_type": "markdown",
      "metadata": {
        "id": "qkMwYXkzt27e"
      },
      "source": [
        "prime_no"
      ]
    },
    {
      "cell_type": "code",
      "metadata": {
        "id": "yPIbRW99t6To"
      },
      "source": [
        "def prime_no(num):\r\n",
        "  if num > 1:\r\n",
        "    for i in range(2,num):\r\n",
        "      if num % i == 0:\r\n",
        "        print(num,\"is not prime no\")\r\n",
        "        break\r\n",
        "      else:\r\n",
        "          print(num,\"is prime no\")\r\n",
        "          break\r\n",
        "  else:\r\n",
        "    print(num,\"is not prime no\")"
      ],
      "execution_count": 11,
      "outputs": []
    },
    {
      "cell_type": "code",
      "metadata": {
        "colab": {
          "base_uri": "https://localhost:8080/"
        },
        "id": "JzpBULFGutTA",
        "outputId": "7e4a5496-fdcf-494d-99cb-8bc07f997bf5"
      },
      "source": [
        "prime_no(11)"
      ],
      "execution_count": 12,
      "outputs": [
        {
          "output_type": "stream",
          "text": [
            "11 is prime no\n"
          ],
          "name": "stdout"
        }
      ]
    },
    {
      "cell_type": "code",
      "metadata": {
        "colab": {
          "base_uri": "https://localhost:8080/"
        },
        "id": "mffz4O99vAJ1",
        "outputId": "7b5bcf46-7001-41d8-ba10-3836c28af551"
      },
      "source": [
        "prime_no(4)"
      ],
      "execution_count": 5,
      "outputs": [
        {
          "output_type": "stream",
          "text": [
            "4 is not prime no\n"
          ],
          "name": "stdout"
        }
      ]
    }
  ]
}